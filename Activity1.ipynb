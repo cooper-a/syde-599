{
 "cells": [
  {
   "cell_type": "code",
   "execution_count": 1,
   "id": "be513ce8",
   "metadata": {},
   "outputs": [],
   "source": [
    "import sklearn\n",
    "import pickle\n",
    "from sklearn.linear_model import LogisticRegression\n",
    "import matplotlib.pyplot as plt"
   ]
  },
  {
   "cell_type": "code",
   "execution_count": 2,
   "id": "4a63ab85",
   "metadata": {},
   "outputs": [],
   "source": [
    "with open('logistic-regression-data.pkl', 'rb') as f:\n",
    "    data = pickle.load(f)"
   ]
  },
  {
   "cell_type": "code",
   "execution_count": 3,
   "id": "0f478cc8",
   "metadata": {},
   "outputs": [],
   "source": [
    "clf = LogisticRegression(random_state=5000).fit(data[\"training_x\"], data[\"training_y\"])"
   ]
  },
  {
   "cell_type": "code",
   "execution_count": 4,
   "id": "b034b479",
   "metadata": {},
   "outputs": [],
   "source": [
    "preds_training = clf.predict_proba(data[\"training_x\"])\n",
    "preds_validations = clf.predict_proba(data[\"validation_x\"])"
   ]
  },
  {
   "cell_type": "code",
   "execution_count": 5,
   "id": "aa9564bf",
   "metadata": {},
   "outputs": [],
   "source": [
    "def plot_hist(ground_truth, preds, is_training):\n",
    "    preds = preds[:,-1]\n",
    "    preds_true = []\n",
    "    preds_false = []\n",
    "    for val, i in enumerate(preds):\n",
    "        if ground_truth[i]:\n",
    "            preds_true.append(preds[i])\n",
    "        else:\n",
    "            preds_false.append(preds[i])\n",
    "    \n",
    "    plt.hist(preds_true, bins=10, label='True')\n",
    "    plt.hist(preds_false, bins=10, label='False')\n",
    "    plt.legend(loc='best')\n",
    "    plt.ylabel('Count')\n",
    "    plt.xlabel('Predicted Probability')\n",
    "    if is_training:\n",
    "        plt.title('Training Data')\n",
    "    else:\n",
    "        plt.title('Validation Data')\n",
    "\n",
    "    plt.show()"
   ]
  },
  {
   "cell_type": "code",
   "execution_count": 30,
   "id": "cdc6da77",
   "metadata": {},
   "outputs": [
    {
     "data": {
      "image/png": "[encoded data removed]",
      "text/plain": [
       "<Figure size 432x288 with 1 Axes>"
      ]
     },
     "metadata": {
      "needs_background": "light"
     },
     "output_type": "display_data"
    }
   ],
   "source": [
    "plot_hist(data[\"training_y\"], preds_training, True)"
   ]
  },
  {
   "cell_type": "code",
   "execution_count": 32,
   "id": "807751b6",
   "metadata": {},
   "outputs": [
    {
     "data": {
      "image/png": "[encoded data removed]",
      "text/plain": [
       "<Figure size 432x288 with 1 Axes>"
      ]
     },
     "metadata": {
      "needs_background": "light"
     },
     "output_type": "display_data"
    }
   ],
   "source": [
    "plot_hist(data[\"validation_y\"], preds_validations, False)"
   ]
  },
  {
   "cell_type": "code",
   "execution_count": null,
   "id": "bef78429",
   "metadata": {},
   "outputs": [],
   "source": []
  }
 ],
 "metadata": {
  "kernelspec": {
   "display_name": "Python 3 (ipykernel)",
   "language": "python",
   "name": "python3"
  },
  "language_info": {
   "codemirror_mode": {
    "name": "ipython",
    "version": 3
   },
   "file_extension": ".py",
   "mimetype": "text/x-python",
   "name": "python",
   "nbconvert_exporter": "python",
   "pygments_lexer": "ipython3",
   "version": "3.7.0"
  }
 },
 "nbformat": 4,
 "nbformat_minor": 5
}
