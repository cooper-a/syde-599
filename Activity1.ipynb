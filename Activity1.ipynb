{
 "cells": [
  {
   "cell_type": "code",
   "execution_count": 4,
   "id": "be513ce8",
   "metadata": {},
   "outputs": [],
   "source": [
    "import sklearn\n",
    "import pickle\n",
    "from sklearn.linear_model import LogisticRegression"
   ]
  },
  {
   "cell_type": "code",
   "execution_count": 2,
   "id": "4a63ab85",
   "metadata": {},
   "outputs": [],
   "source": [
    "with open('logistic-regression-data.pkl', 'rb') as f:\n",
    "    data = pickle.load(f)"
   ]
  },
  {
   "cell_type": "code",
   "execution_count": null,
   "id": "7bf3d977",
   "metadata": {},
   "outputs": [],
   "source": []
  },
  {
   "cell_type": "code",
   "execution_count": null,
   "id": "549434a3",
   "metadata": {},
   "outputs": [],
   "source": []
  },
  {
   "cell_type": "code",
   "execution_count": 9,
   "id": "0f478cc8",
   "metadata": {},
   "outputs": [],
   "source": [
    "clf = LogisticRegression(random_state=0).fit(data[\"training_x\"], data[\"training_y\"])"
   ]
  },
  {
   "cell_type": "code",
   "execution_count": 23,
   "id": "b034b479",
   "metadata": {},
   "outputs": [],
   "source": [
    "preds_training = clf.predict_proba(data[\"training_x\"])\n",
    "preds_validations = clf.predict_proba(data[\"validation_x\"])"
   ]
  },
  {
   "cell_type": "code",
   "execution_count": 57,
   "id": "1e7fc96b",
   "metadata": {},
   "outputs": [
    {
     "data": {
      "text/plain": [
       "array([[0.76571008, 0.23428992],\n",
       "       [0.03807589, 0.96192411],\n",
       "       [0.69069949, 0.30930051],\n",
       "       [0.00828769, 0.99171231],\n",
       "       [0.06775818, 0.93224182],\n",
       "       [0.02522851, 0.97477149],\n",
       "       [0.79628948, 0.20371052],\n",
       "       [0.4505042 , 0.5494958 ],\n",
       "       [0.03493644, 0.96506356],\n",
       "       [0.12822052, 0.87177948],\n",
       "       [0.12226014, 0.87773986],\n",
       "       [0.24500328, 0.75499672],\n",
       "       [0.06583504, 0.93416496],\n",
       "       [0.77271386, 0.22728614],\n",
       "       [0.99475053, 0.00524947],\n",
       "       [0.980599  , 0.019401  ],\n",
       "       [0.60895504, 0.39104496],\n",
       "       [0.93092402, 0.06907598],\n",
       "       [0.41005703, 0.58994297],\n",
       "       [0.86877299, 0.13122701],\n",
       "       [0.99480335, 0.00519665],\n",
       "       [0.0995938 , 0.9004062 ],\n",
       "       [0.94864129, 0.05135871],\n",
       "       [0.2930718 , 0.7069282 ],\n",
       "       [0.94638977, 0.05361023],\n",
       "       [0.99724104, 0.00275896],\n",
       "       [0.71764081, 0.28235919],\n",
       "       [0.31325143, 0.68674857],\n",
       "       [0.05300085, 0.94699915],\n",
       "       [0.51288567, 0.48711433],\n",
       "       [0.27184233, 0.72815767],\n",
       "       [0.04140487, 0.95859513],\n",
       "       [0.04055352, 0.95944648],\n",
       "       [0.00225712, 0.99774288],\n",
       "       [0.24500328, 0.75499672],\n",
       "       [0.49671469, 0.50328531],\n",
       "       [0.79808161, 0.20191839],\n",
       "       [0.62986753, 0.37013247],\n",
       "       [0.23494226, 0.76505774],\n",
       "       [0.06400147, 0.93599853],\n",
       "       [0.84476947, 0.15523053],\n",
       "       [0.19225612, 0.80774388],\n",
       "       [0.96534088, 0.03465912],\n",
       "       [0.8189143 , 0.1810857 ],\n",
       "       [0.79723412, 0.20276588],\n",
       "       [0.90597118, 0.09402882],\n",
       "       [0.97214523, 0.02785477],\n",
       "       [0.89845167, 0.10154833],\n",
       "       [0.9461224 , 0.0538776 ],\n",
       "       [0.85929555, 0.14070445],\n",
       "       [0.17347015, 0.82652985],\n",
       "       [0.01218125, 0.98781875],\n",
       "       [0.83405832, 0.16594168],\n",
       "       [0.78465766, 0.21534234],\n",
       "       [0.81439058, 0.18560942],\n",
       "       [0.0107057 , 0.9892943 ],\n",
       "       [0.9046239 , 0.0953761 ],\n",
       "       [0.79787839, 0.20212161],\n",
       "       [0.84020061, 0.15979939],\n",
       "       [0.04157488, 0.95842512],\n",
       "       [0.9906126 , 0.0093874 ],\n",
       "       [0.9880344 , 0.0119656 ],\n",
       "       [0.16580638, 0.83419362],\n",
       "       [0.03099467, 0.96900533],\n",
       "       [0.15579257, 0.84420743],\n",
       "       [0.01967089, 0.98032911],\n",
       "       [0.97371782, 0.02628218],\n",
       "       [0.232481  , 0.767519  ],\n",
       "       [0.98436478, 0.01563522],\n",
       "       [0.13223804, 0.86776196],\n",
       "       [0.97639856, 0.02360144],\n",
       "       [0.99366019, 0.00633981],\n",
       "       [0.94536349, 0.05463651],\n",
       "       [0.21491296, 0.78508704],\n",
       "       [0.07493247, 0.92506753]])"
      ]
     },
     "execution_count": 57,
     "metadata": {},
     "output_type": "execute_result"
    }
   ],
   "source": [
    "preds_training"
   ]
  },
  {
   "cell_type": "code",
   "execution_count": 16,
   "id": "580fa40d",
   "metadata": {},
   "outputs": [],
   "source": [
    "import matplotlib.pyplot as plt\n"
   ]
  },
  {
   "cell_type": "code",
   "execution_count": 54,
   "id": "aa9564bf",
   "metadata": {},
   "outputs": [],
   "source": [
    "def plot_hist(preds, is_training):\n",
    "    preds = preds[:,-1]\n",
    "    preds_true = []\n",
    "    preds_false = []\n",
    "    for i in preds:\n",
    "        if i > 0.5:\n",
    "            preds_true.append(i)\n",
    "        else:\n",
    "            preds_false.append(i)\n",
    "    \n",
    "    plt.hist(preds_true, bins=10, label='True')\n",
    "    plt.hist(preds_false, bins=10, label='False')\n",
    "    plt.legend(loc='best')\n",
    "    plt.ylabel('Count')\n",
    "    plt.xlabel('Predicted Probability')\n",
    "    if is_training:\n",
    "        plt.title('Training Data')\n",
    "    else:\n",
    "        plt.title('Validation Data')\n",
    "\n",
    "    plt.show()"
   ]
  },
  {
   "cell_type": "code",
   "execution_count": 55,
   "id": "cdc6da77",
   "metadata": {},
   "outputs": [
    {
     "data": {
      "image/png": "[encoded data removed]",
      "text/plain": [
       "<Figure size 432x288 with 1 Axes>"
      ]
     },
     "metadata": {
      "needs_background": "light"
     },
     "output_type": "display_data"
    }
   ],
   "source": [
    "plot_hist(preds_training, True)"
   ]
  },
  {
   "cell_type": "code",
   "execution_count": 56,
   "id": "807751b6",
   "metadata": {},
   "outputs": [
    {
     "data": {
      "image/png": "[encoded data removed]",
      "text/plain": [
       "<Figure size 432x288 with 1 Axes>"
      ]
     },
     "metadata": {
      "needs_background": "light"
     },
     "output_type": "display_data"
    }
   ],
   "source": [
    "plot_hist(preds_validations, False)"
   ]
  },
  {
   "cell_type": "code",
   "execution_count": null,
   "id": "bef78429",
   "metadata": {},
   "outputs": [],
   "source": []
  }
 ],
 "metadata": {
  "kernelspec": {
   "display_name": "Python 3 (ipykernel)",
   "language": "python",
   "name": "python3"
  },
  "language_info": {
   "codemirror_mode": {
    "name": "ipython",
    "version": 3
   },
   "file_extension": ".py",
   "mimetype": "text/x-python",
   "name": "python",
   "nbconvert_exporter": "python",
   "pygments_lexer": "ipython3",
   "version": "3.7.0"
  }
 },
 "nbformat": 4,
 "nbformat_minor": 5
}
